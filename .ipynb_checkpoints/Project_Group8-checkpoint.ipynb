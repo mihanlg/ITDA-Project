{
 "cells": [
  {
   "cell_type": "markdown",
   "metadata": {},
   "source": [
    "### <center>Курс: \"Введение в анализ данных (1 семестр)\"</center>"
   ]
  },
  {
   "cell_type": "markdown",
   "metadata": {},
   "source": [
    "# <center>Группа 8</center>"
   ]
  },
  {
   "cell_type": "markdown",
   "metadata": {},
   "source": [
    "<center><b>Состав группы:</b> Белялова Мария, Лопаткин Владимир, Постников Михаил</center>"
   ]
  },
  {
   "cell_type": "markdown",
   "metadata": {},
   "source": [
    "## <center>Задание:</center>"
   ]
  },
  {
   "cell_type": "markdown",
   "metadata": {},
   "source": [
    "Цель работы определить о чем датасет + найти в нем что-то интересное."
   ]
  },
  {
   "cell_type": "markdown",
   "metadata": {},
   "source": [
    "Исследование должно быть выполнено по методологии cхожей с CRISP-DM. А именно, обязательно должны быть фазы:\n",
    "- 1) Определение задач и целей исследования\n",
    "- 2) Понимание данных (аналогично CRISP-DM) (в том числе визуализация данных)\n",
    "- 3) Подготовка данных (аналогично CRISP-DM)\n",
    "- 4) Непосредственно исследование. А именно, проверка гепотез, визуализация результатов и т.д.\n",
    "- 5) Подведение итогов исследования.\n",
    "\n",
    "Фаза \"Понимание данных\" должна быть выполнена в соответствии с протоколом разведочного анализа данных http://iis4.nateko.lu.se/courses/ngem01/ZuurEtAl_2010_Stistics.pdf (но, без фанатизма, с учетом имеющихся датасетов)."
   ]
  },
  {
   "cell_type": "markdown",
   "metadata": {},
   "source": [
    "Работа должна разделяться на разделы в соответствии с методологией.\n",
    "\n",
    "- За часть связанной с <b>обработкой и разведочным анализом данных (а именно с построением графиков, показывающих структуру, раскрывающих ключивые моменты и ставящих задачи для дальнейшего анализа)</b> можно заработать 20 баллов, при условии, что <b>будут использоваться не менее 5 типов графиков (в том числе один связанный с нанесением данных на карту)</b>. Общего кол-ва графиков должно быть достаточно для того, чтобы понять структуру данных (но не меньше, чем по 4-5 графика на человека в группе).\n",
    "\n",
    "\n",
    "- За <b>выдвижение и проверку различных статистических гипотез</b> на основе данных можно заработать еще 10 баллов. Гипотезы должны быть разных типов (простая VS простая, простая VS сложная, сложная VS сложная). Кроме того, нужно будет <b>использовать как минимум 1-2 статистических критерия</b>.\n",
    "\n",
    " <b>Достаточно будет сделать проверку 2-х гипотез (на группу)</b>:\n",
    "  - в качестве простой - тест на проверку значения какой-либо оценки\n",
    "  - в качестве сложной (критерий согласия/тест на равенство параметров в выборочных совокупностях):\n",
    "   - использован критерий согласия для проверки гипотезы о виде распределения;\n",
    "   - проверена гипотеза о равенстве параметров в различных совокупностях.\n",
    "  \n",
    "\n",
    "- За <b>анализ временного ряда</b> (1-3 на группу) можно будет получить еще 10 баллов. Под анализом понимается: <b>обнаружения тренда, сезонности в данных. Формирования прогноза и построение доверительных интерваллов для него</b>."
   ]
  },
  {
   "cell_type": "markdown",
   "metadata": {},
   "source": [
    "$$[---------------------------------------------]$$"
   ]
  },
  {
   "cell_type": "markdown",
   "metadata": {},
   "source": [
    "Для дополнительного изучения анализа временных рядов рекомендуется курс лекций \"Анализ временных рядов\" Канторовича Г.Г."
   ]
  },
  {
   "cell_type": "markdown",
   "metadata": {},
   "source": [
    "## <center>Вариант задания - 4</center>"
   ]
  },
  {
   "cell_type": "markdown",
   "metadata": {},
   "source": [
    "4. Агрегированная информация по сделкам с недвижимостью в городе New York https://nycopendata.socrata.com/data?agency=Department+of+Finance+%28DOF%29&cat=housing%20%26%20development&type=datasets&browseSearch=&scope="
   ]
  },
  {
   "cell_type": "markdown",
   "metadata": {},
   "source": [
    "Данные:\n",
    "- Cooperative and Condominium comparable rental inclome.\n",
    "- Queens, Manhattan, Bronx, Brooklyn, Staten Island\n",
    "- 2008-2012 years"
   ]
  },
  {
   "cell_type": "markdown",
   "metadata": {},
   "source": [
    "Информация о датасетах:\n",
    "\n",
    "- Condominiums and cooperatives are valued as if they were residential rental apartments. Income information from similar rental properties is applied to determine value. \n",
    "The Department of Finance (DOF) chooses similar properties to value condos and coops. Properties are selected based on a combination of factors such as: <b>land location, income levels, building age and construction and exemptions and subsidies</b>."
   ]
  },
  {
   "cell_type": "markdown",
   "metadata": {},
   "source": [
    "# <center>Решение</center>"
   ]
  },
  {
   "cell_type": "markdown",
   "metadata": {},
   "source": [
    "## Подключение библиотек"
   ]
  },
  {
   "cell_type": "code",
   "execution_count": 1,
   "metadata": {
    "collapsed": true
   },
   "outputs": [],
   "source": [
    "import numpy as np\n",
    "import pandas as pd\n",
    "import matplotlib.pyplot as plt\n",
    "import os"
   ]
  },
  {
   "cell_type": "code",
   "execution_count": 2,
   "metadata": {
    "collapsed": true
   },
   "outputs": [],
   "source": [
    "%matplotlib inline"
   ]
  },
  {
   "cell_type": "code",
   "execution_count": 3,
   "metadata": {
    "collapsed": false
   },
   "outputs": [],
   "source": [
    "plt.style.use('ggplot')"
   ]
  },
  {
   "cell_type": "markdown",
   "metadata": {},
   "source": [
    "## Реализация функций"
   ]
  },
  {
   "cell_type": "code",
   "execution_count": null,
   "metadata": {
    "collapsed": true
   },
   "outputs": [],
   "source": []
  },
  {
   "cell_type": "code",
   "execution_count": null,
   "metadata": {
    "collapsed": true
   },
   "outputs": [],
   "source": []
  },
  {
   "cell_type": "code",
   "execution_count": null,
   "metadata": {
    "collapsed": true
   },
   "outputs": [],
   "source": []
  },
  {
   "cell_type": "markdown",
   "metadata": {},
   "source": [
    "## Основной блок"
   ]
  },
  {
   "cell_type": "markdown",
   "metadata": {},
   "source": [
    "#### Глобальные переменные"
   ]
  },
  {
   "cell_type": "code",
   "execution_count": 4,
   "metadata": {
    "collapsed": true
   },
   "outputs": [],
   "source": [
    "datasetsPath = \"./Datasets\"\n",
    "years = range(2008, 2013)\n",
    "cooperativePath = \"/\".join([datasetsPath, \"Cooperative\"])\n",
    "condiminiumPath = \"/\".join([datasetsPath, \"Condominium\"])"
   ]
  },
  {
   "cell_type": "markdown",
   "metadata": {},
   "source": [
    "#### http://www.machinelearning.ru/wiki/index.php?title=CRISP-DM"
   ]
  },
  {
   "cell_type": "markdown",
   "metadata": {},
   "source": [
    "### 1) Определение задач и целей исследования"
   ]
  },
  {
   "cell_type": "markdown",
   "metadata": {},
   "source": [
    "Первая фаза процесса направлена на определение целей проекта. Затем эти знания конвертируются в постановку задачи интеллектуального анализа данных и предварительный план достижения целей проекта.\n",
    "\n",
    "- Определить цели\n",
    "- Оценить ситуацию\n",
    "- Определить цели анализа данных\n",
    "- Составить план проекта"
   ]
  },
  {
   "cell_type": "markdown",
   "metadata": {},
   "source": []
  },
  {
   "cell_type": "markdown",
   "metadata": {},
   "source": []
  },
  {
   "cell_type": "markdown",
   "metadata": {},
   "source": []
  },
  {
   "cell_type": "markdown",
   "metadata": {},
   "source": [
    "### 2) Понимание данных (в том числе визуализация данных)"
   ]
  },
  {
   "cell_type": "markdown",
   "metadata": {},
   "source": [
    "Вторая фаза начинается со сбора данных и ставит целью познакомиться с данными как можно ближе. Для этого необходимо выявить проблемы с качеством данных такие как ошибки или пропуски, понять что за данные имеются в наличии, попробовать отыскать интересные наборы данных или сформировать гипотезы о наличии скрытых закономерностей в данных.\n",
    "- Собрать исходные данные (загрузить в датафреймы)\n",
    "- Описать данные (значения тех или иных переменных)\n",
    "- Исследовать данные (посмотреть распределения)\n",
    "- Проверить качество данных (значения NULL, все ли правильно внесены, нет ли некорректных данных, столбцы объединить)"
   ]
  },
  {
   "cell_type": "markdown",
   "metadata": {},
   "source": [
    "#### http://iis4.nateko.lu.se/courses/ngem01/ZuurEtAl_2010_Stistics.pdf"
   ]
  },
  {
   "cell_type": "markdown",
   "metadata": {},
   "source": [
    "Сначала загрузим <b>Cooperative</b> датасеты"
   ]
  },
  {
   "cell_type": "code",
   "execution_count": 5,
   "metadata": {
    "collapsed": false
   },
   "outputs": [],
   "source": [
    "cooperativeDF = {}\n",
    "for year in years[:-1]:\n",
    "    folderName = \"%d_%d\" % (year, year+1)\n",
    "    cooperativePathByYears = '/'.join([cooperativePath, folderName])\n",
    "    for filename in os.listdir(cooperativePathByYears):\n",
    "        district = filename[filename.find(\"___\")+3:]\n",
    "        district = district[:district.find(\"__\")]\n",
    "        df = pd.read_csv('/'.join([cooperativePathByYears, filename]))\n",
    "        df['Year'] = year\n",
    "        if cooperativeDF.has_key(district):\n",
    "            cooperativeDF[district] = pd.concat([cooperativeDF[district], df])\n",
    "        else:\n",
    "            cooperativeDF[district] = df"
   ]
  },
  {
   "cell_type": "code",
   "execution_count": 6,
   "metadata": {
    "collapsed": false
   },
   "outputs": [
    {
     "data": {
      "text/plain": [
       "['Bronx', 'Staten_Island', 'Brooklyn', 'Manhattan', 'Queens']"
      ]
     },
     "execution_count": 6,
     "metadata": {},
     "output_type": "execute_result"
    }
   ],
   "source": [
    "cooperativeDF.keys()"
   ]
  },
  {
   "cell_type": "code",
   "execution_count": null,
   "metadata": {
    "collapsed": true
   },
   "outputs": [],
   "source": []
  },
  {
   "cell_type": "code",
   "execution_count": null,
   "metadata": {
    "collapsed": true
   },
   "outputs": [],
   "source": []
  },
  {
   "cell_type": "code",
   "execution_count": null,
   "metadata": {
    "collapsed": true
   },
   "outputs": [],
   "source": []
  },
  {
   "cell_type": "markdown",
   "metadata": {},
   "source": [
    "### 3) Подготовка данных"
   ]
  },
  {
   "cell_type": "markdown",
   "metadata": {},
   "source": [
    "Фаза подготовки данных ставит целью получить итоговый набор данных, которые будут использоваться при моделировании, из исходных разнородных и разноформатных данных. Задачи подготовки данных могут выполняться много раз без какого-либо наперед заданного порядка. Они включают в себя отбор таблиц, записей и атрибутов, а также конвертацию и очистку данных для моделирования.\n",
    "- Отобрать данные (удалить ненужные столбцы)\n",
    "- Очистить данные (избавиться от неопределенных значений)\n",
    "- Сделать производные данные (дополнительные столбцы, вычисления)\n",
    "- Объединить данные (если необходимо)\n",
    "- Привести данные в нужный формат (числа в числа, строки в строки, получить хороший датафрейм)"
   ]
  },
  {
   "cell_type": "code",
   "execution_count": null,
   "metadata": {
    "collapsed": true
   },
   "outputs": [],
   "source": []
  },
  {
   "cell_type": "code",
   "execution_count": null,
   "metadata": {
    "collapsed": true
   },
   "outputs": [],
   "source": []
  },
  {
   "cell_type": "code",
   "execution_count": null,
   "metadata": {
    "collapsed": true
   },
   "outputs": [],
   "source": []
  },
  {
   "cell_type": "markdown",
   "metadata": {},
   "source": [
    "### 4) Непосредственно исследование. А именно, проверка гепотез, визуализация результатов и т.д."
   ]
  },
  {
   "cell_type": "markdown",
   "metadata": {},
   "source": [
    "В этой фазе к данным применяются разнообразные методики моделирования, строятся модели и их параметры настраиваются на оптимальные значения. Обычно для решения любой задачи анализа данных существует несколько различных подходов. Некоторые подходы накладывают особые требования на представление данных. Таким образом часто бывает нужен возврат на шаг назад к фазе подготовки данных.\n",
    "- Выбрать методику моделирования\n",
    "- Сделать тесты для модели\n",
    "- Построить модель\n",
    "- Оценить модель"
   ]
  },
  {
   "cell_type": "code",
   "execution_count": null,
   "metadata": {
    "collapsed": true
   },
   "outputs": [],
   "source": []
  },
  {
   "cell_type": "code",
   "execution_count": null,
   "metadata": {
    "collapsed": true
   },
   "outputs": [],
   "source": []
  },
  {
   "cell_type": "code",
   "execution_count": null,
   "metadata": {
    "collapsed": true
   },
   "outputs": [],
   "source": []
  },
  {
   "cell_type": "markdown",
   "metadata": {},
   "source": [
    "### 5) Подведение итогов исследования."
   ]
  },
  {
   "cell_type": "markdown",
   "metadata": {},
   "source": [
    "На этом этапе проекта уже построена модель и получены количественные оценки её качества. Перед тем, как внедрять эту модель, необходимо убедиться, что мы достигли всех поставленных бизнес-целей. Основной целью этапа является поиск важных бизнес-задач, которым не было уделено должного внимания.\n",
    "- Оценить результаты\n",
    "- Сделать ревью процесса"
   ]
  },
  {
   "cell_type": "code",
   "execution_count": null,
   "metadata": {
    "collapsed": true
   },
   "outputs": [],
   "source": []
  },
  {
   "cell_type": "code",
   "execution_count": null,
   "metadata": {
    "collapsed": true
   },
   "outputs": [],
   "source": []
  },
  {
   "cell_type": "code",
   "execution_count": null,
   "metadata": {
    "collapsed": true
   },
   "outputs": [],
   "source": []
  }
 ],
 "metadata": {
  "kernelspec": {
   "display_name": "Python 2",
   "language": "python",
   "name": "python2"
  },
  "language_info": {
   "codemirror_mode": {
    "name": "ipython",
    "version": 2
   },
   "file_extension": ".py",
   "mimetype": "text/x-python",
   "name": "python",
   "nbconvert_exporter": "python",
   "pygments_lexer": "ipython2",
   "version": "2.7.11"
  }
 },
 "nbformat": 4,
 "nbformat_minor": 0
}
