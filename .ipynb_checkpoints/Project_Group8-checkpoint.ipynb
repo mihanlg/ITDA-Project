{
 "cells": [
  {
   "cell_type": "markdown",
   "metadata": {},
   "source": [
    "### <center>Курс: \"Введение в анализ данных (1 семестр)\"</center>"
   ]
  },
  {
   "cell_type": "markdown",
   "metadata": {},
   "source": [
    "# <center>Группа 8</center>"
   ]
  },
  {
   "cell_type": "markdown",
   "metadata": {},
   "source": [
    "<center><b>Состав группы:</b> Белялова Мария, Лопаткин Владимир, Постников Михаил</center>"
   ]
  },
  {
   "cell_type": "markdown",
   "metadata": {},
   "source": [
    "## <center>Задание:</center>"
   ]
  },
  {
   "cell_type": "markdown",
   "metadata": {},
   "source": [
    "Цель работы определить о чем датасет + найти в нем что-то интересное."
   ]
  },
  {
   "cell_type": "markdown",
   "metadata": {},
   "source": [
    "Исследование должно быть выполнено по методологии cхожей с CRISP-DM. А именно, обязательно должны быть фазы:\n",
    "- 1) Определение задач и целей исследования\n",
    "- 2) Понимание данных (аналогично CRISP-DM) (в том числе визуализация данных)\n",
    "- 3) Подготовка данных (аналогично CRISP-DM)\n",
    "- 4) Непосредственно исследование. А именно, проверка гепотез, визуализация результатов и т.д.\n",
    "- 5) Подведение итогов исследования.\n",
    "\n",
    "Фаза \"Понимание данных\" должна быть выполнена в соответствии с протоколом разведочного анализа данных http://iis4.nateko.lu.se/courses/ngem01/ZuurEtAl_2010_Stistics.pdf (но, без фанатизма, с учетом имеющихся датасетов)."
   ]
  },
  {
   "cell_type": "markdown",
   "metadata": {},
   "source": [
    "Работа должна разделяться на разделы в соответствии с методологией.\n",
    "\n",
    "- За часть связанной с <b>обработкой и разведочным анализом данных (а именно с построением графиков, показывающих структуру, раскрывающих ключивые моменты и ставящих задачи для дальнейшего анализа)</b> можно заработать 20 баллов, при условии, что <b>будут использоваться не менее 5 типов графиков (в том числе один связанный с нанесением данных на карту)</b>. Общего кол-ва графиков должно быть достаточно для того, чтобы понять структуру данных (но не меньше, чем по 4-5 графика на человека в группе).\n",
    "\n",
    "\n",
    "- За <b>выдвижение и проверку различных статистических гипотез</b> на основе данных можно заработать еще 10 баллов. Гипотезы должны быть разных типов (простая VS простая, простая VS сложная, сложная VS сложная). Кроме того, нужно будет <b>использовать как минимум 1-2 статистических критерия</b>.\n",
    "\n",
    " <b>Достаточно будет сделать проверку 2-х гипотез (на группу)</b>:\n",
    "  - в качестве простой - тест на проверку значения какой-либо оценки\n",
    "  - в качестве сложной (критерий согласия/тест на равенство параметров в выборочных совокупностях):\n",
    "   - использован критерий согласия для проверки гипотезы о виде распределения;\n",
    "   - проверена гипотеза о равенстве параметров в различных совокупностях.\n",
    "  \n",
    "\n",
    "- За <b>анализ временного ряда</b> (1-3 на группу) можно будет получить еще 10 баллов. Под анализом понимается: <b>обнаружения тренда, сезонности в данных. Формирования прогноза и построение доверительных интерваллов для него</b>."
   ]
  },
  {
   "cell_type": "markdown",
   "metadata": {},
   "source": [
    "$$[---------------------------------------------]$$"
   ]
  },
  {
   "cell_type": "markdown",
   "metadata": {},
   "source": [
    "Для дополнительного изучения анализа временных рядов рекомендуется курс лекций \"Анализ временных рядов\" Канторовича Г.Г."
   ]
  },
  {
   "cell_type": "markdown",
   "metadata": {},
   "source": [
    "## <center>Вариант задания - 4</center>"
   ]
  },
  {
   "cell_type": "markdown",
   "metadata": {},
   "source": [
    "4. Агрегированная информация по сделкам с недвижимостью в городе New York https://nycopendata.socrata.com/data?agency=Department+of+Finance+%28DOF%29&cat=housing%20%26%20development&type=datasets&browseSearch=&scope="
   ]
  },
  {
   "cell_type": "markdown",
   "metadata": {},
   "source": [
    "Данные:\n",
    "- Cooperative and Condominium comparable rental inclome.\n",
    "- Queens, Manhattan, Bronx, Brooklyn, Staten Island\n",
    "- 2008-2012 years"
   ]
  },
  {
   "cell_type": "markdown",
   "metadata": {},
   "source": [
    "Информация о датасетах:\n",
    "\n",
    "- Condominiums and cooperatives are valued as if they were residential rental apartments. Income information from similar rental properties is applied to determine value. \n",
    "The Department of Finance (DOF) chooses similar properties to value condos and coops. Properties are selected based on a combination of factors such as: <b>land location, income levels, building age and construction and exemptions and subsidies</b>."
   ]
  },
  {
   "cell_type": "markdown",
   "metadata": {},
   "source": [
    "# <center>Решение</center>"
   ]
  },
  {
   "cell_type": "markdown",
   "metadata": {},
   "source": [
    "## Подключение библиотек"
   ]
  },
  {
   "cell_type": "code",
   "execution_count": 1,
   "metadata": {
    "collapsed": true
   },
   "outputs": [],
   "source": [
    "import numpy as np\n",
    "import pandas as pd\n",
    "import matplotlib.pyplot as plt\n",
    "import os"
   ]
  },
  {
   "cell_type": "code",
   "execution_count": 2,
   "metadata": {
    "collapsed": true
   },
   "outputs": [],
   "source": [
    "%matplotlib inline"
   ]
  },
  {
   "cell_type": "code",
   "execution_count": 3,
   "metadata": {
    "collapsed": false
   },
   "outputs": [],
   "source": [
    "plt.style.use('ggplot')"
   ]
  },
  {
   "cell_type": "markdown",
   "metadata": {},
   "source": [
    "## Реализация функций"
   ]
  },
  {
   "cell_type": "markdown",
   "metadata": {},
   "source": [
    "#### Dataframe"
   ]
  },
  {
   "cell_type": "code",
   "execution_count": 4,
   "metadata": {
    "collapsed": true
   },
   "outputs": [],
   "source": [
    "def joinAndRemoveColumn(df, column_1, column_2):\n",
    "    _slice = pd.isnull(df[column_1])\n",
    "    df[column_1][_slice] = df[column_2][_slice]\n",
    "    df.drop(column_2, axis=1, inplace=True)\n",
    "    print \"Removed column: \" + column_2"
   ]
  },
  {
   "cell_type": "code",
   "execution_count": 5,
   "metadata": {
    "collapsed": true
   },
   "outputs": [],
   "source": [
    "def renameColumns(df):\n",
    "    columns = df.columns\n",
    "    newnames = {}\n",
    "    for name in columns:\n",
    "        newname = name.replace(\"–\", \"--\")\n",
    "        startPos = newname.find('COOPERATIVES COMPARABLE PROPERTIES')\n",
    "        if startPos != -1: newname = newname[startPos:]\n",
    "        newnames[name] = newname\n",
    "    return df.rename(columns=newnames)"
   ]
  },
  {
   "cell_type": "code",
   "execution_count": 6,
   "metadata": {
    "collapsed": true
   },
   "outputs": [],
   "source": [
    "def getPropeties(df):\n",
    "    properties = []\n",
    "    for name in df.columns:\n",
    "        if name.find('COOPERATIVES COMPARABLE PROPERTIES') != -1:\n",
    "            prop = name[name.rfind(\"--\") + 3:]\n",
    "            properties.append(prop)\n",
    "    return properties"
   ]
  },
  {
   "cell_type": "code",
   "execution_count": null,
   "metadata": {
    "collapsed": true
   },
   "outputs": [],
   "source": []
  },
  {
   "cell_type": "markdown",
   "metadata": {},
   "source": [
    "## Основной блок"
   ]
  },
  {
   "cell_type": "markdown",
   "metadata": {},
   "source": [
    "#### Глобальные переменные"
   ]
  },
  {
   "cell_type": "code",
   "execution_count": 7,
   "metadata": {
    "collapsed": true
   },
   "outputs": [],
   "source": [
    "datasetsPath = \"./Datasets\"\n",
    "years = range(2008, 2013)\n",
    "cooperativePath = \"/\".join([datasetsPath,\"Cooperative\"])\n",
    "#condiminiumPath = \"/\".join([datasetsPath, \"Condominium\"])"
   ]
  },
  {
   "cell_type": "markdown",
   "metadata": {},
   "source": [
    "#### http://www.machinelearning.ru/wiki/index.php?title=CRISP-DM"
   ]
  },
  {
   "cell_type": "markdown",
   "metadata": {},
   "source": [
    "### 1) Определение задач и целей исследования"
   ]
  },
  {
   "cell_type": "markdown",
   "metadata": {},
   "source": [
    "Первая фаза процесса направлена на определение целей проекта. Затем эти знания конвертируются в постановку задачи интеллектуального анализа данных и предварительный план достижения целей проекта.\n",
    "\n",
    "- Определить цели\n",
    "- Оценить ситуацию\n",
    "- Определить цели анализа данных\n",
    "- Составить план проекта"
   ]
  },
  {
   "cell_type": "markdown",
   "metadata": {},
   "source": []
  },
  {
   "cell_type": "markdown",
   "metadata": {},
   "source": []
  },
  {
   "cell_type": "markdown",
   "metadata": {},
   "source": []
  },
  {
   "cell_type": "markdown",
   "metadata": {},
   "source": [
    "### 2) Понимание данных (в том числе визуализация данных)"
   ]
  },
  {
   "cell_type": "markdown",
   "metadata": {},
   "source": [
    "Вторая фаза начинается со сбора данных и ставит целью познакомиться с данными как можно ближе. Для этого необходимо выявить проблемы с качеством данных такие как ошибки или пропуски, понять что за данные имеются в наличии, попробовать отыскать интересные наборы данных или сформировать гипотезы о наличии скрытых закономерностей в данных.\n",
    "- Собрать исходные данные (загрузить в датафреймы)\n",
    "- Описать данные (что значат переменные)\n",
    "- Исследовать данные\n",
    "- Проверить качество данных (значения NULL, все ли правильно внесены, нет ли некорректных данных, столбцы объединить)"
   ]
  },
  {
   "cell_type": "markdown",
   "metadata": {},
   "source": [
    "#### http://iis4.nateko.lu.se/courses/ngem01/ZuurEtAl_2010_Stistics.pdf"
   ]
  },
  {
   "cell_type": "markdown",
   "metadata": {},
   "source": [
    "$$[---------------------------------------------]$$"
   ]
  },
  {
   "cell_type": "markdown",
   "metadata": {},
   "source": [
    "Сначала загрузим <b>Cooperative</b> датасеты, добавим в каждый датафрейм столбец с годом и названием района"
   ]
  },
  {
   "cell_type": "code",
   "execution_count": 8,
   "metadata": {
    "collapsed": false
   },
   "outputs": [],
   "source": [
    "cooperativeDF = {}\n",
    "for year in years[:-1]:\n",
    "    folderName = \"%d_%d\" % (year, year+1)\n",
    "    cooperativePathByYears = '/'.join([cooperativePath, folderName])\n",
    "    for filename in os.listdir(cooperativePathByYears):\n",
    "        district = filename[filename.find(\"___\")+3:]\n",
    "        district = district[:district.find(\"__\")]\n",
    "        df = pd.read_csv('/'.join([cooperativePathByYears, filename]))\n",
    "        df['Year'] = year\n",
    "        df['District'] = district\n",
    "        if cooperativeDF.has_key(district):\n",
    "            cooperativeDF[district] = pd.concat([cooperativeDF[district], df])\n",
    "            cooperativeDF[district].index = range(len(cooperativeDF[district]))\n",
    "        else:\n",
    "            cooperativeDF[district] = df"
   ]
  },
  {
   "cell_type": "code",
   "execution_count": 9,
   "metadata": {
    "collapsed": false,
    "scrolled": true
   },
   "outputs": [
    {
     "name": "stdout",
     "output_type": "stream",
     "text": [
      " 0: COMPARABLE RENTAL – 1 – Address\n",
      " 1: COMPARABLE RENTAL – 1 – Boro-Block-Lot\n",
      " 2: COMPARABLE RENTAL – 1 – Building Classification\n",
      " 3: COMPARABLE RENTAL – 1 – Distance from Coop in miles\n",
      " 4: COMPARABLE RENTAL – 1 – Estimated Expense\n",
      " 5: COMPARABLE RENTAL – 1 – Estimated Gross Income\n",
      " 6: COMPARABLE RENTAL – 1 – Expense per SqFt\n",
      " 7: COMPARABLE RENTAL – 1 – Full Market Value\n",
      " 8: COMPARABLE RENTAL – 1 – Gross Income per SqFt\n",
      " 9: COMPARABLE RENTAL – 1 – Gross SqFt\n",
      "10: COMPARABLE RENTAL – 1 – Market Value per SqFt\n",
      "11: COMPARABLE RENTAL – 1 – Neighborhood\n",
      "12: COMPARABLE RENTAL – 1 – Net Operating Income\n",
      "13: COMPARABLE RENTAL – 1 – Total Units\n",
      "14: COMPARABLE RENTAL – 1 – Year Built\n",
      "15: COMPARABLE RENTAL – 1 –Address\n",
      "16: COMPARABLE RENTAL – 1 –Boro-Block-Lot\n",
      "17: COMPARABLE RENTAL – 1 –Building Classification\n",
      "18: COMPARABLE RENTAL – 1 –Dist. from Coop in miles\n",
      "19: COMPARABLE RENTAL – 1 –Est. Gross Income\n",
      "20: COMPARABLE RENTAL – 1 –Full Market Value\n",
      "21: COMPARABLE RENTAL – 1 –Gross Income per SqFt\n",
      "22: COMPARABLE RENTAL – 1 –Gross SqFt\n",
      "23: COMPARABLE RENTAL – 1 –Market Value per SqFt\n",
      "24: COMPARABLE RENTAL – 1 –Neighborhood\n",
      "25: COMPARABLE RENTAL – 1 –Total Units\n",
      "26: COMPARABLE RENTAL – 1 –Year Built\n",
      "27: COMPARABLE RENTAL – 2 – Address\n",
      "28: COMPARABLE RENTAL – 2 – Boro-Block-Lot\n",
      "29: COMPARABLE RENTAL – 2 – Building Classification\n",
      "30: COMPARABLE RENTAL – 2 – Distance from Coop in miles\n",
      "31: COMPARABLE RENTAL – 2 – Estimated Expense\n",
      "32: COMPARABLE RENTAL – 2 – Estimated Gross Income\n",
      "33: COMPARABLE RENTAL – 2 – Expense per SqFt\n",
      "34: COMPARABLE RENTAL – 2 – Full Market Value\n",
      "35: COMPARABLE RENTAL – 2 – Gross Income per SqFt\n",
      "36: COMPARABLE RENTAL – 2 – Gross SqFt\n",
      "37: COMPARABLE RENTAL – 2 – Market Value per SqFt\n",
      "38: COMPARABLE RENTAL – 2 – Neighborhood\n",
      "39: COMPARABLE RENTAL – 2 – Net Operating Income\n",
      "40: COMPARABLE RENTAL – 2 – Total Units\n",
      "41: COMPARABLE RENTAL – 2 – Year Built\n",
      "42: COMPARABLE RENTAL – 2 –Address\n",
      "43: COMPARABLE RENTAL – 2 –Boro-Block-Lot\n",
      "44: COMPARABLE RENTAL – 2 –Building Classification\n",
      "45: COMPARABLE RENTAL – 2 –Dist. from Coop in miles\n",
      "46: COMPARABLE RENTAL – 2 –Est. Gross Income\n",
      "47: COMPARABLE RENTAL – 2 –Full Market Value\n",
      "48: COMPARABLE RENTAL – 2 –Gross Income per SqFt\n",
      "49: COMPARABLE RENTAL – 2 –Gross SqFt\n",
      "50: COMPARABLE RENTAL – 2 –Market Value per SqFt\n",
      "51: COMPARABLE RENTAL – 2 –Neighborhood\n",
      "52: COMPARABLE RENTAL – 2 –Total Units\n",
      "53: COMPARABLE RENTAL – 2 –Year Built\n",
      "54: COMPARABLE RENTAL – 3 – Address\n",
      "55: COMPARABLE RENTAL – 3 – Boro-Block-Lot\n",
      "56: COMPARABLE RENTAL – 3 – Building Classification\n",
      "57: COMPARABLE RENTAL – 3 – Distance from Coop in miles\n",
      "58: COMPARABLE RENTAL – 3 – Estimated Expense\n",
      "59: COMPARABLE RENTAL – 3 – Estimated Gross Income\n",
      "60: COMPARABLE RENTAL – 3 – Expense per SqFt\n",
      "61: COMPARABLE RENTAL – 3 – Full Market Value\n",
      "62: COMPARABLE RENTAL – 3 – Gross Income per SqFt\n",
      "63: COMPARABLE RENTAL – 3 – Gross SqFt\n",
      "64: COMPARABLE RENTAL – 3 – Market Value per SqFt\n",
      "65: COMPARABLE RENTAL – 3 – Neighborhood\n",
      "66: COMPARABLE RENTAL – 3 – Net Operating Income\n",
      "67: COMPARABLE RENTAL – 3 – Total Units\n",
      "68: COMPARABLE RENTAL – 3 – Year Built\n",
      "69: District\n",
      "70: STATEN ISLAND – COOPERATIVES COMPARABLE PROPERTIES – Address\n",
      "71: STATEN ISLAND – COOPERATIVES COMPARABLE PROPERTIES – Boro-Block-Lot\n",
      "72: STATEN ISLAND – COOPERATIVES COMPARABLE PROPERTIES – Building Classification\n",
      "73: STATEN ISLAND – COOPERATIVES COMPARABLE PROPERTIES – Est. Gross Income\n",
      "74: STATEN ISLAND – COOPERATIVES COMPARABLE PROPERTIES – Estimated Expense\n",
      "75: STATEN ISLAND – COOPERATIVES COMPARABLE PROPERTIES – Estimated Gross Income\n",
      "76: STATEN ISLAND – COOPERATIVES COMPARABLE PROPERTIES – Expense per SqFt\n",
      "77: STATEN ISLAND – COOPERATIVES COMPARABLE PROPERTIES – Full Market Value\n",
      "78: STATEN ISLAND – COOPERATIVES COMPARABLE PROPERTIES – Gross Income per SqFt\n",
      "79: STATEN ISLAND – COOPERATIVES COMPARABLE PROPERTIES – Gross SqFt\n",
      "80: STATEN ISLAND – COOPERATIVES COMPARABLE PROPERTIES – Market Value per SqFt\n",
      "81: STATEN ISLAND – COOPERATIVES COMPARABLE PROPERTIES – Neighborhood\n",
      "82: STATEN ISLAND – COOPERATIVES COMPARABLE PROPERTIES – Net Operating Income\n",
      "83: STATEN ISLAND – COOPERATIVES COMPARABLE PROPERTIES – Total Units\n",
      "84: STATEN ISLAND – COOPERATIVES COMPARABLE PROPERTIES – Year Built\n",
      "85: Year\n"
     ]
    }
   ],
   "source": [
    "for i, col in enumerate(cooperativeDF['Staten_Island'].columns):\n",
    "    print \"%2d: %s\" % (i, col)"
   ]
  },
  {
   "cell_type": "code",
   "execution_count": 10,
   "metadata": {
    "collapsed": false
   },
   "outputs": [
    {
     "data": {
      "text/html": [
       "<div>\n",
       "<table border=\"1\" class=\"dataframe\">\n",
       "  <thead>\n",
       "    <tr style=\"text-align: right;\">\n",
       "      <th></th>\n",
       "      <th>COMPARABLE RENTAL – 1 – Address</th>\n",
       "      <th>COMPARABLE RENTAL – 1 –Address</th>\n",
       "      <th>COMPARABLE RENTAL – 1 – Estimated Gross Income</th>\n",
       "      <th>COMPARABLE RENTAL – 1 –Est. Gross Income</th>\n",
       "      <th>COMPARABLE RENTAL – 3 – Address</th>\n",
       "      <th>STATEN ISLAND – COOPERATIVES COMPARABLE PROPERTIES – Est. Gross Income</th>\n",
       "      <th>STATEN ISLAND – COOPERATIVES COMPARABLE PROPERTIES – Estimated Gross Income</th>\n",
       "    </tr>\n",
       "  </thead>\n",
       "  <tbody>\n",
       "    <tr>\n",
       "      <th>0</th>\n",
       "      <td>NaN</td>\n",
       "      <td>163 JERSEY STREET\\nStaten Island, NY\\n(40.6437...</td>\n",
       "      <td>NaN</td>\n",
       "      <td>2677642</td>\n",
       "      <td>NaN</td>\n",
       "      <td>1839705</td>\n",
       "      <td>NaN</td>\n",
       "    </tr>\n",
       "  </tbody>\n",
       "</table>\n",
       "</div>"
      ],
      "text/plain": [
       "  COMPARABLE RENTAL – 1 – Address  \\\n",
       "0                             NaN   \n",
       "\n",
       "                      COMPARABLE RENTAL – 1 –Address  \\\n",
       "0  163 JERSEY STREET\\nStaten Island, NY\\n(40.6437...   \n",
       "\n",
       "   COMPARABLE RENTAL – 1 – Estimated Gross Income  \\\n",
       "0                                             NaN   \n",
       "\n",
       "   COMPARABLE RENTAL – 1 –Est. Gross Income COMPARABLE RENTAL – 3 – Address  \\\n",
       "0                                   2677642                             NaN   \n",
       "\n",
       "   STATEN ISLAND – COOPERATIVES COMPARABLE PROPERTIES – Est. Gross Income  \\\n",
       "0                                            1839705                        \n",
       "\n",
       "   STATEN ISLAND – COOPERATIVES COMPARABLE PROPERTIES – Estimated Gross Income  \n",
       "0                                                NaN                            "
      ]
     },
     "execution_count": 10,
     "metadata": {},
     "output_type": "execute_result"
    }
   ],
   "source": [
    "cooperativeDF['Staten_Island'][cooperativeDF['Staten_Island']['Year'] == 2008][cooperativeDF['Staten_Island'].columns[[0, 15, 5, 19, 54, 73, 75]]].head(1)"
   ]
  },
  {
   "cell_type": "code",
   "execution_count": 11,
   "metadata": {
    "collapsed": false
   },
   "outputs": [
    {
     "data": {
      "text/html": [
       "<div>\n",
       "<table border=\"1\" class=\"dataframe\">\n",
       "  <thead>\n",
       "    <tr style=\"text-align: right;\">\n",
       "      <th></th>\n",
       "      <th>COMPARABLE RENTAL – 1 – Address</th>\n",
       "      <th>COMPARABLE RENTAL – 1 –Address</th>\n",
       "      <th>COMPARABLE RENTAL – 1 – Estimated Gross Income</th>\n",
       "      <th>COMPARABLE RENTAL – 1 –Est. Gross Income</th>\n",
       "      <th>COMPARABLE RENTAL – 3 – Address</th>\n",
       "      <th>STATEN ISLAND – COOPERATIVES COMPARABLE PROPERTIES – Est. Gross Income</th>\n",
       "      <th>STATEN ISLAND – COOPERATIVES COMPARABLE PROPERTIES – Estimated Gross Income</th>\n",
       "    </tr>\n",
       "  </thead>\n",
       "  <tbody>\n",
       "    <tr>\n",
       "      <th>46</th>\n",
       "      <td>NaN</td>\n",
       "      <td>163 JERSEY STREET\\nStaten Island, NY\\n(40.6437...</td>\n",
       "      <td>NaN</td>\n",
       "      <td>2840710</td>\n",
       "      <td>NaN</td>\n",
       "      <td>1951743</td>\n",
       "      <td>NaN</td>\n",
       "    </tr>\n",
       "  </tbody>\n",
       "</table>\n",
       "</div>"
      ],
      "text/plain": [
       "   COMPARABLE RENTAL – 1 – Address  \\\n",
       "46                             NaN   \n",
       "\n",
       "                       COMPARABLE RENTAL – 1 –Address  \\\n",
       "46  163 JERSEY STREET\\nStaten Island, NY\\n(40.6437...   \n",
       "\n",
       "    COMPARABLE RENTAL – 1 – Estimated Gross Income  \\\n",
       "46                                             NaN   \n",
       "\n",
       "    COMPARABLE RENTAL – 1 –Est. Gross Income COMPARABLE RENTAL – 3 – Address  \\\n",
       "46                                   2840710                             NaN   \n",
       "\n",
       "    STATEN ISLAND – COOPERATIVES COMPARABLE PROPERTIES – Est. Gross Income  \\\n",
       "46                                            1951743                        \n",
       "\n",
       "    STATEN ISLAND – COOPERATIVES COMPARABLE PROPERTIES – Estimated Gross Income  \n",
       "46                                                NaN                            "
      ]
     },
     "execution_count": 11,
     "metadata": {},
     "output_type": "execute_result"
    }
   ],
   "source": [
    "cooperativeDF['Staten_Island'][cooperativeDF['Staten_Island']['Year'] == 2010][cooperativeDF['Staten_Island'].columns[[0, 15, 5, 19, 54, 73, 75]]].head(1)"
   ]
  },
  {
   "cell_type": "code",
   "execution_count": 12,
   "metadata": {
    "collapsed": false
   },
   "outputs": [
    {
     "data": {
      "text/html": [
       "<div>\n",
       "<table border=\"1\" class=\"dataframe\">\n",
       "  <thead>\n",
       "    <tr style=\"text-align: right;\">\n",
       "      <th></th>\n",
       "      <th>COMPARABLE RENTAL – 1 – Address</th>\n",
       "      <th>COMPARABLE RENTAL – 1 –Address</th>\n",
       "      <th>COMPARABLE RENTAL – 1 – Estimated Gross Income</th>\n",
       "      <th>COMPARABLE RENTAL – 1 –Est. Gross Income</th>\n",
       "      <th>COMPARABLE RENTAL – 3 – Address</th>\n",
       "      <th>STATEN ISLAND – COOPERATIVES COMPARABLE PROPERTIES – Est. Gross Income</th>\n",
       "      <th>STATEN ISLAND – COOPERATIVES COMPARABLE PROPERTIES – Estimated Gross Income</th>\n",
       "    </tr>\n",
       "  </thead>\n",
       "  <tbody>\n",
       "    <tr>\n",
       "      <th>70</th>\n",
       "      <td>285 ST MARK'S PLACE\\nStaten Island, NY\\n(40.64...</td>\n",
       "      <td>NaN</td>\n",
       "      <td>1012863</td>\n",
       "      <td>NaN</td>\n",
       "      <td>NaN</td>\n",
       "      <td>NaN</td>\n",
       "      <td>1719172</td>\n",
       "    </tr>\n",
       "  </tbody>\n",
       "</table>\n",
       "</div>"
      ],
      "text/plain": [
       "                      COMPARABLE RENTAL – 1 – Address  \\\n",
       "70  285 ST MARK'S PLACE\\nStaten Island, NY\\n(40.64...   \n",
       "\n",
       "   COMPARABLE RENTAL – 1 –Address  \\\n",
       "70                            NaN   \n",
       "\n",
       "    COMPARABLE RENTAL – 1 – Estimated Gross Income  \\\n",
       "70                                         1012863   \n",
       "\n",
       "    COMPARABLE RENTAL – 1 –Est. Gross Income COMPARABLE RENTAL – 3 – Address  \\\n",
       "70                                       NaN                             NaN   \n",
       "\n",
       "    STATEN ISLAND – COOPERATIVES COMPARABLE PROPERTIES – Est. Gross Income  \\\n",
       "70                                                NaN                        \n",
       "\n",
       "    STATEN ISLAND – COOPERATIVES COMPARABLE PROPERTIES – Estimated Gross Income  \n",
       "70                                            1719172                            "
      ]
     },
     "execution_count": 12,
     "metadata": {},
     "output_type": "execute_result"
    }
   ],
   "source": [
    "cooperativeDF['Staten_Island'][cooperativeDF['Staten_Island']['Year'] == 2011][cooperativeDF['Staten_Island'].columns[[0, 15, 5, 19, 54, 73, 75]]].head(1)"
   ]
  },
  {
   "cell_type": "markdown",
   "metadata": {},
   "source": [
    "$$[---------------------------------------------]$$"
   ]
  },
  {
   "cell_type": "markdown",
   "metadata": {},
   "source": [
    " Полученные датафреймы необходимо будет объединить. Но перед этим - произвести переименование столбцов, имеющих общие характеристики"
   ]
  },
  {
   "cell_type": "code",
   "execution_count": null,
   "metadata": {
    "collapsed": true
   },
   "outputs": [],
   "source": []
  },
  {
   "cell_type": "code",
   "execution_count": null,
   "metadata": {
    "collapsed": true
   },
   "outputs": [],
   "source": []
  },
  {
   "cell_type": "markdown",
   "metadata": {},
   "source": [
    "### 3) Подготовка данных"
   ]
  },
  {
   "cell_type": "markdown",
   "metadata": {},
   "source": [
    "Фаза подготовки данных ставит целью получить итоговый набор данных, которые будут использоваться при моделировании, из исходных разнородных и разноформатных данных. Задачи подготовки данных могут выполняться много раз без какого-либо наперед заданного порядка. Они включают в себя отбор таблиц, записей и атрибутов, а также конвертацию и очистку данных для моделирования.\n",
    "- Отобрать данные (удалить ненужные столбцы)\n",
    "- Очистить данные (избавиться от неопределенных значений)\n",
    "- Сделать производные данные (дополнительные столбцы, вычисления)\n",
    "- Объединить данные (если необходимо)\n",
    "- Привести данные в нужный формат (числа в числа, строки в строки, получить хороший датафрейм)"
   ]
  },
  {
   "cell_type": "markdown",
   "metadata": {},
   "source": [
    "<b>Переименуем столбцы с названиями районов</b>\n",
    "- STATEN ISLAND – COOPERATIVES COMPARABLE PROPERTIES\n",
    "\n",
    "в\n",
    "- COOPERATIVES COMPARABLE PROPERTIES\n",
    "\n",
    "для общности"
   ]
  },
  {
   "cell_type": "code",
   "execution_count": 13,
   "metadata": {
    "collapsed": true
   },
   "outputs": [],
   "source": [
    "for key in cooperativeDF.keys():\n",
    "    cooperativeDF[key] = renameColumns(cooperativeDF[key])"
   ]
  },
  {
   "cell_type": "markdown",
   "metadata": {},
   "source": [
    "#### Как мы заметили, многие столбцы имеют схожие названия (видимо, в 2011 году переименовали столбцы с сокращениями) - объединим их и удалим повторяющиеся\n",
    "\n",
    "- 'BRONX – COOPERATIVES COMPARABLE PROPERTIES – Est. Gross Income'\n",
    "- 'BRONX – COOPERATIVES COMPARABLE PROPERTIES – Estimated Gross Income'\n",
    "\n",
    "\n",
    "- 'COMPARABLE RENTAL – 1 – Address'\n",
    "- 'COMPARABLE RENTAL – 1 –Address'\n",
    "\n",
    "и другие"
   ]
  },
  {
   "cell_type": "markdown",
   "metadata": {},
   "source": [
    "#### Соберем список свойств, по которым сравниваются данные"
   ]
  },
  {
   "cell_type": "code",
   "execution_count": 14,
   "metadata": {
    "collapsed": false
   },
   "outputs": [],
   "source": [
    "properties = {}\n",
    "for key in cooperativeDF.keys():\n",
    "    properties[key] = getPropeties(cooperativeDF[key])"
   ]
  },
  {
   "cell_type": "code",
   "execution_count": 15,
   "metadata": {
    "collapsed": false
   },
   "outputs": [
    {
     "data": {
      "text/plain": [
       "True"
      ]
     },
     "execution_count": 15,
     "metadata": {},
     "output_type": "execute_result"
    }
   ],
   "source": [
    "properties['Bronx'] == properties['Brooklyn'] == properties['Staten_Island'] == properties['Manhattan'] == properties['Queens']"
   ]
  },
  {
   "cell_type": "markdown",
   "metadata": {},
   "source": [
    "#### Избавляемся от словаря и оставляем один список свойств, так как они вышли одинаковые"
   ]
  },
  {
   "cell_type": "code",
   "execution_count": 16,
   "metadata": {
    "collapsed": false
   },
   "outputs": [
    {
     "data": {
      "text/plain": [
       "['Address',\n",
       " 'Boro-Block-Lot',\n",
       " 'Building Classification',\n",
       " 'Est. Gross Income',\n",
       " 'Estimated Expense',\n",
       " 'Estimated Gross Income',\n",
       " 'Expense per SqFt',\n",
       " 'Full Market Value',\n",
       " 'Gross Income per SqFt',\n",
       " 'Gross SqFt',\n",
       " 'Market Value per SqFt',\n",
       " 'Neighborhood',\n",
       " 'Net Operating Income',\n",
       " 'Total Units',\n",
       " 'Year Built']"
      ]
     },
     "execution_count": 16,
     "metadata": {},
     "output_type": "execute_result"
    }
   ],
   "source": [
    "properties = getPropeties(cooperativeDF['Bronx'])\n",
    "properties"
   ]
  },
  {
   "cell_type": "markdown",
   "metadata": {},
   "source": [
    "####  Собственно производим объединение и удаление"
   ]
  },
  {
   "cell_type": "code",
   "execution_count": 17,
   "metadata": {
    "collapsed": false
   },
   "outputs": [
    {
     "name": "stdout",
     "output_type": "stream",
     "text": [
      "Removed column: COOPERATIVES COMPARABLE PROPERTIES -- Est. Gross Income\n",
      "Removed column: COMPARABLE RENTAL -- 1 --Dist. from Coop in miles\n",
      "Removed column: COMPARABLE RENTAL -- 1 --Est. Gross Income\n",
      "Removed column: COMPARABLE RENTAL -- 1 --Address\n",
      "Removed column: COMPARABLE RENTAL -- 1 --Boro-Block-Lot\n",
      "Removed column: COMPARABLE RENTAL -- 1 --Building Classification\n",
      "Removed column: COMPARABLE RENTAL -- 1 --Full Market Value\n",
      "Removed column: COMPARABLE RENTAL -- 1 --Gross Income per SqFt\n",
      "Removed column: COMPARABLE RENTAL -- 1 --Gross SqFt\n",
      "Removed column: COMPARABLE RENTAL -- 1 --Market Value per SqFt\n",
      "Removed column: COMPARABLE RENTAL -- 1 --Neighborhood\n",
      "Removed column: COMPARABLE RENTAL -- 1 --Total Units\n",
      "Removed column: COMPARABLE RENTAL -- 1 --Year Built\n",
      "Removed column: COMPARABLE RENTAL -- 2 --Dist. from Coop in miles\n",
      "Removed column: COMPARABLE RENTAL -- 2 --Est. Gross Income\n",
      "Removed column: COMPARABLE RENTAL -- 2 --Address\n",
      "Removed column: COMPARABLE RENTAL -- 2 --Boro-Block-Lot\n",
      "Removed column: COMPARABLE RENTAL -- 2 --Building Classification\n",
      "Removed column: COMPARABLE RENTAL -- 2 --Full Market Value\n",
      "Removed column: COMPARABLE RENTAL -- 2 --Gross Income per SqFt\n",
      "Removed column: COMPARABLE RENTAL -- 2 --Gross SqFt\n",
      "Removed column: COMPARABLE RENTAL -- 2 --Market Value per SqFt\n",
      "Removed column: COMPARABLE RENTAL -- 2 --Neighborhood\n",
      "Removed column: COMPARABLE RENTAL -- 2 --Total Units\n",
      "Removed column: COMPARABLE RENTAL -- 2 --Year Built\n",
      "Removed column: COOPERATIVES COMPARABLE PROPERTIES -- Est. Gross Income\n",
      "Removed column: COMPARABLE RENTAL -- 1 --Dist. from Coop in miles\n",
      "Removed column: COMPARABLE RENTAL -- 1 --Est. Gross Income\n",
      "Removed column: COMPARABLE RENTAL -- 1 --Address\n",
      "Removed column: COMPARABLE RENTAL -- 1 --Boro-Block-Lot\n",
      "Removed column: COMPARABLE RENTAL -- 1 --Building Classification\n",
      "Removed column: COMPARABLE RENTAL -- 1 --Full Market Value\n",
      "Removed column: COMPARABLE RENTAL -- 1 --Gross Income per SqFt\n",
      "Removed column: COMPARABLE RENTAL -- 1 --Gross SqFt\n",
      "Removed column: COMPARABLE RENTAL -- 1 --Market Value per SqFt\n",
      "Removed column: COMPARABLE RENTAL -- 1 --Neighborhood\n",
      "Removed column: COMPARABLE RENTAL -- 1 --Total Units\n",
      "Removed column: COMPARABLE RENTAL -- 1 --Year Built\n",
      "Removed column: COMPARABLE RENTAL -- 2 --Dist. from Coop in miles\n",
      "Removed column: COMPARABLE RENTAL -- 2 --Est. Gross Income\n",
      "Removed column: COMPARABLE RENTAL -- 2 --Address\n",
      "Removed column: COMPARABLE RENTAL -- 2 --Boro-Block-Lot\n",
      "Removed column: COMPARABLE RENTAL -- 2 --Building Classification\n",
      "Removed column: COMPARABLE RENTAL -- 2 --Full Market Value\n",
      "Removed column: COMPARABLE RENTAL -- 2 --Gross Income per SqFt\n",
      "Removed column: COMPARABLE RENTAL -- 2 --Gross SqFt\n",
      "Removed column: COMPARABLE RENTAL -- 2 --Market Value per SqFt\n",
      "Removed column: COMPARABLE RENTAL -- 2 --Neighborhood\n",
      "Removed column: COMPARABLE RENTAL -- 2 --Total Units\n",
      "Removed column: COMPARABLE RENTAL -- 2 --Year Built\n",
      "Removed column: COOPERATIVES COMPARABLE PROPERTIES -- Est. Gross Income\n",
      "Removed column: COMPARABLE RENTAL -- 1 --Dist. from Coop in miles\n",
      "Removed column: COMPARABLE RENTAL -- 1 --Est. Gross Income\n",
      "Removed column: COMPARABLE RENTAL -- 1 --Address\n",
      "Removed column: COMPARABLE RENTAL -- 1 --Boro-Block-Lot\n",
      "Removed column: COMPARABLE RENTAL -- 1 --Building Classification\n",
      "Removed column: COMPARABLE RENTAL -- 1 --Full Market Value\n",
      "Removed column: COMPARABLE RENTAL -- 1 --Gross Income per SqFt\n",
      "Removed column: COMPARABLE RENTAL -- 1 --Gross SqFt\n",
      "Removed column: COMPARABLE RENTAL -- 1 --Market Value per SqFt\n",
      "Removed column: COMPARABLE RENTAL -- 1 --Neighborhood\n",
      "Removed column: COMPARABLE RENTAL -- 1 --Total Units\n",
      "Removed column: COMPARABLE RENTAL -- 1 --Year Built\n",
      "Removed column: COMPARABLE RENTAL -- 2 --Dist. from Coop in miles\n",
      "Removed column: COMPARABLE RENTAL -- 2 --Est. Gross Income\n",
      "Removed column: COMPARABLE RENTAL -- 2 --Address\n",
      "Removed column: COMPARABLE RENTAL -- 2 --Boro-Block-Lot\n",
      "Removed column: COMPARABLE RENTAL -- 2 --Building Classification\n",
      "Removed column: COMPARABLE RENTAL -- 2 --Full Market Value\n",
      "Removed column: COMPARABLE RENTAL -- 2 --Gross Income per SqFt\n",
      "Removed column: COMPARABLE RENTAL -- 2 --Gross SqFt\n",
      "Removed column: COMPARABLE RENTAL -- 2 --Market Value per SqFt\n",
      "Removed column: COMPARABLE RENTAL -- 2 --Neighborhood\n",
      "Removed column: COMPARABLE RENTAL -- 2 --Total Units\n",
      "Removed column: COMPARABLE RENTAL -- 2 --Year Built\n",
      "Removed column: COOPERATIVES COMPARABLE PROPERTIES -- Est. Gross Income\n",
      "Removed column: COMPARABLE RENTAL -- 1 --Dist. from Coop in miles\n",
      "Removed column: COMPARABLE RENTAL -- 1 --Est. Gross Income\n",
      "Removed column: COMPARABLE RENTAL -- 1 --Address\n",
      "Removed column: COMPARABLE RENTAL -- 1 --Boro-Block-Lot\n",
      "Removed column: COMPARABLE RENTAL -- 1 --Building Classification\n",
      "Removed column: COMPARABLE RENTAL -- 1 --Full Market Value\n",
      "Removed column: COMPARABLE RENTAL -- 1 --Gross Income per SqFt\n",
      "Removed column: COMPARABLE RENTAL -- 1 --Gross SqFt\n",
      "Removed column: COMPARABLE RENTAL -- 1 --Market Value per SqFt\n",
      "Removed column: COMPARABLE RENTAL -- 1 --Neighborhood\n",
      "Removed column: COMPARABLE RENTAL -- 1 --Total Units\n",
      "Removed column: COMPARABLE RENTAL -- 1 --Year Built\n",
      "Removed column: COMPARABLE RENTAL -- 2 --Dist. from Coop in miles\n",
      "Removed column: COMPARABLE RENTAL -- 2 --Est. Gross Income\n",
      "Removed column: COMPARABLE RENTAL -- 2 --Address\n",
      "Removed column: COMPARABLE RENTAL -- 2 --Boro-Block-Lot\n",
      "Removed column: COMPARABLE RENTAL -- 2 --Building Classification\n",
      "Removed column: COMPARABLE RENTAL -- 2 --Full Market Value\n",
      "Removed column: COMPARABLE RENTAL -- 2 --Gross Income per SqFt\n",
      "Removed column: COMPARABLE RENTAL -- 2 --Gross SqFt\n",
      "Removed column: COMPARABLE RENTAL -- 2 --Market Value per SqFt\n",
      "Removed column: COMPARABLE RENTAL -- 2 --Neighborhood\n",
      "Removed column: COMPARABLE RENTAL -- 2 --Total Units\n",
      "Removed column: COMPARABLE RENTAL -- 2 --Year Built\n",
      "Removed column: COOPERATIVES COMPARABLE PROPERTIES -- Est. Gross Income\n",
      "Removed column: COMPARABLE RENTAL -- 1 --Dist. from Coop in miles\n",
      "Removed column: COMPARABLE RENTAL -- 1 --Est. Gross Income\n",
      "Removed column: COMPARABLE RENTAL -- 1 --Address\n",
      "Removed column: COMPARABLE RENTAL -- 1 --Boro-Block-Lot\n",
      "Removed column: COMPARABLE RENTAL -- 1 --Building Classification\n",
      "Removed column: COMPARABLE RENTAL -- 1 --Full Market Value\n",
      "Removed column: COMPARABLE RENTAL -- 1 --Gross Income per SqFt\n",
      "Removed column: COMPARABLE RENTAL -- 1 --Gross SqFt\n",
      "Removed column: COMPARABLE RENTAL -- 1 --Market Value per SqFt\n",
      "Removed column: COMPARABLE RENTAL -- 1 --Neighborhood\n",
      "Removed column: COMPARABLE RENTAL -- 1 --Total Units\n",
      "Removed column: COMPARABLE RENTAL -- 1 --Year Built\n",
      "Removed column: COMPARABLE RENTAL -- 2 --Dist. from Coop in miles\n",
      "Removed column: COMPARABLE RENTAL -- 2 --Est. Gross Income\n",
      "Removed column: COMPARABLE RENTAL -- 2 --Address\n",
      "Removed column: COMPARABLE RENTAL -- 2 --Boro-Block-Lot\n",
      "Removed column: COMPARABLE RENTAL -- 2 --Building Classification\n",
      "Removed column: COMPARABLE RENTAL -- 2 --Full Market Value\n",
      "Removed column: COMPARABLE RENTAL -- 2 --Gross Income per SqFt\n",
      "Removed column: COMPARABLE RENTAL -- 2 --Gross SqFt\n",
      "Removed column: COMPARABLE RENTAL -- 2 --Market Value per SqFt\n",
      "Removed column: COMPARABLE RENTAL -- 2 --Neighborhood\n",
      "Removed column: COMPARABLE RENTAL -- 2 --Total Units\n",
      "Removed column: COMPARABLE RENTAL -- 2 --Year Built\n"
     ]
    },
    {
     "name": "stderr",
     "output_type": "stream",
     "text": [
      "/anaconda/lib/python2.7/site-packages/ipykernel/__main__.py:3: SettingWithCopyWarning: \n",
      "A value is trying to be set on a copy of a slice from a DataFrame\n",
      "\n",
      "See the caveats in the documentation: http://pandas.pydata.org/pandas-docs/stable/indexing.html#indexing-view-versus-copy\n",
      "  app.launch_new_instance()\n"
     ]
    }
   ],
   "source": [
    "beginnings = ['COMPARABLE RENTAL -- 1 --',\n",
    "              'COMPARABLE RENTAL -- 2 --',\n",
    "              'COMPARABLE RENTAL -- 3 --']\n",
    "\n",
    "for key in cooperativeDF.keys():\n",
    "    columns = cooperativeDF[key].columns\n",
    "    \n",
    "    #PROPERTIES COLUMNS\n",
    "    beg = 'COOPERATIVES COMPARABLE PROPERTIES -- '\n",
    "    column = (beg + 'Distance from Coop in miles')\n",
    "    if ((beg + 'Dist. from Coop in miles') in columns) & (column in columns):\n",
    "        joinAndRemoveColumn(cooperativeDF[key], column, beg + 'Dist. from Coop in miles')\n",
    "    column = (beg + 'Estimated Gross Income')\n",
    "    if ((beg + 'Est. Gross Income') in columns) & (column in columns):\n",
    "        joinAndRemoveColumn(cooperativeDF[key], column, beg + 'Est. Gross Income')\n",
    "\n",
    "    #OTHER COLUMNS\n",
    "    for beg in beginnings:\n",
    "        column = (beg + ' ' + 'Distance from Coop in miles')\n",
    "        if ((beg + 'Dist. from Coop in miles') in columns) & (column in columns):\n",
    "            joinAndRemoveColumn(cooperativeDF[key], column, beg + 'Dist. from Coop in miles')\n",
    "        column = (beg + ' ' + 'Estimated Gross Income')\n",
    "        if ((beg + 'Est. Gross Income') in columns) & (column in columns):\n",
    "            joinAndRemoveColumn(cooperativeDF[key], column, beg + 'Est. Gross Income')\n",
    "        for prop in properties:\n",
    "            column = (beg + ' ' + prop)\n",
    "            if ((beg + prop) in columns) & (column in columns):\n",
    "                joinAndRemoveColumn(cooperativeDF[key], column, beg+prop)"
   ]
  },
  {
   "cell_type": "markdown",
   "metadata": {},
   "source": [
    "#### Теперь объединим датафреймы, удалим из датафрейма столбцы, количество NULL в которых превышает 25%"
   ]
  },
  {
   "cell_type": "code",
   "execution_count": 18,
   "metadata": {
    "collapsed": true
   },
   "outputs": [],
   "source": [
    "mainDF = pd.concat(cooperativeDF.values(), ignore_index=True)"
   ]
  },
  {
   "cell_type": "code",
   "execution_count": 19,
   "metadata": {
    "collapsed": true
   },
   "outputs": [],
   "source": [
    "nulls = pd.isnull(mainDF)\n",
    "for column in mainDF.columns:\n",
    "    if float(nulls[column].sum())/len(nulls) > 0.25:\n",
    "        mainDF.drop(column, axis = 1, inplace = True)"
   ]
  },
  {
   "cell_type": "code",
   "execution_count": 20,
   "metadata": {
    "collapsed": false,
    "scrolled": false
   },
   "outputs": [
    {
     "data": {
      "text/plain": [
       "Index([u'COMPARABLE RENTAL -- 1 -- Address',\n",
       "       u'COMPARABLE RENTAL -- 1 -- Boro-Block-Lot',\n",
       "       u'COMPARABLE RENTAL -- 1 -- Building Classification',\n",
       "       u'COMPARABLE RENTAL -- 1 -- Distance from Coop in miles',\n",
       "       u'COMPARABLE RENTAL -- 1 -- Estimated Gross Income',\n",
       "       u'COMPARABLE RENTAL -- 1 -- Full Market Value',\n",
       "       u'COMPARABLE RENTAL -- 1 -- Gross Income per SqFt',\n",
       "       u'COMPARABLE RENTAL -- 1 -- Gross SqFt',\n",
       "       u'COMPARABLE RENTAL -- 1 -- Market Value per SqFt',\n",
       "       u'COMPARABLE RENTAL -- 1 -- Neighborhood',\n",
       "       u'COMPARABLE RENTAL -- 1 -- Total Units',\n",
       "       u'COMPARABLE RENTAL -- 1 -- Year Built',\n",
       "       u'COMPARABLE RENTAL -- 2 -- Address',\n",
       "       u'COMPARABLE RENTAL -- 2 -- Boro-Block-Lot',\n",
       "       u'COMPARABLE RENTAL -- 2 -- Building Classification',\n",
       "       u'COMPARABLE RENTAL -- 2 -- Distance from Coop in miles',\n",
       "       u'COMPARABLE RENTAL -- 2 -- Estimated Gross Income',\n",
       "       u'COMPARABLE RENTAL -- 2 -- Full Market Value',\n",
       "       u'COMPARABLE RENTAL -- 2 -- Gross Income per SqFt',\n",
       "       u'COMPARABLE RENTAL -- 2 -- Gross SqFt',\n",
       "       u'COMPARABLE RENTAL -- 2 -- Market Value per SqFt',\n",
       "       u'COMPARABLE RENTAL -- 2 -- Neighborhood',\n",
       "       u'COMPARABLE RENTAL -- 2 -- Total Units',\n",
       "       u'COMPARABLE RENTAL -- 2 -- Year Built',\n",
       "       u'COOPERATIVES COMPARABLE PROPERTIES -- Address',\n",
       "       u'COOPERATIVES COMPARABLE PROPERTIES -- Boro-Block-Lot',\n",
       "       u'COOPERATIVES COMPARABLE PROPERTIES -- Building Classification',\n",
       "       u'COOPERATIVES COMPARABLE PROPERTIES -- Estimated Gross Income',\n",
       "       u'COOPERATIVES COMPARABLE PROPERTIES -- Full Market Value',\n",
       "       u'COOPERATIVES COMPARABLE PROPERTIES -- Gross Income per SqFt',\n",
       "       u'COOPERATIVES COMPARABLE PROPERTIES -- Gross SqFt',\n",
       "       u'COOPERATIVES COMPARABLE PROPERTIES -- Market Value per SqFt',\n",
       "       u'COOPERATIVES COMPARABLE PROPERTIES -- Neighborhood',\n",
       "       u'COOPERATIVES COMPARABLE PROPERTIES -- Total Units',\n",
       "       u'COOPERATIVES COMPARABLE PROPERTIES -- Year Built', u'District',\n",
       "       u'Year'],\n",
       "      dtype='object')"
      ]
     },
     "execution_count": 20,
     "metadata": {},
     "output_type": "execute_result"
    }
   ],
   "source": [
    "mainDF.columns"
   ]
  },
  {
   "cell_type": "markdown",
   "metadata": {},
   "source": [
    "#### Получим новый, более общий список свойств"
   ]
  },
  {
   "cell_type": "code",
   "execution_count": 21,
   "metadata": {
    "collapsed": true
   },
   "outputs": [],
   "source": [
    "properties = getPropeties(mainDF)"
   ]
  },
  {
   "cell_type": "code",
   "execution_count": 22,
   "metadata": {
    "collapsed": false
   },
   "outputs": [
    {
     "data": {
      "text/plain": [
       "['Address',\n",
       " 'Boro-Block-Lot',\n",
       " 'Building Classification',\n",
       " 'Estimated Gross Income',\n",
       " 'Full Market Value',\n",
       " 'Gross Income per SqFt',\n",
       " 'Gross SqFt',\n",
       " 'Market Value per SqFt',\n",
       " 'Neighborhood',\n",
       " 'Total Units',\n",
       " 'Year Built']"
      ]
     },
     "execution_count": 22,
     "metadata": {},
     "output_type": "execute_result"
    }
   ],
   "source": [
    "properties"
   ]
  },
  {
   "cell_type": "markdown",
   "metadata": {},
   "source": [
    "#### Исходные данные собраны, можно приступить к описанию данных, визуализации, проверке качества данных"
   ]
  },
  {
   "cell_type": "markdown",
   "metadata": {},
   "source": [
    "Далее работаем с датафреймом <b>mainDF</b> и его <b>properties</b>"
   ]
  },
  {
   "cell_type": "markdown",
   "metadata": {},
   "source": [
    "Проверим на оставшиеся Null"
   ]
  },
  {
   "cell_type": "code",
   "execution_count": 23,
   "metadata": {
    "collapsed": false
   },
   "outputs": [
    {
     "data": {
      "text/plain": [
       "COMPARABLE RENTAL -- 1 -- Address                                 True\n",
       "COMPARABLE RENTAL -- 1 -- Boro-Block-Lot                         False\n",
       "COMPARABLE RENTAL -- 1 -- Building Classification                False\n",
       "COMPARABLE RENTAL -- 1 -- Distance from Coop in miles            False\n",
       "COMPARABLE RENTAL -- 1 -- Estimated Gross Income                 False\n",
       "COMPARABLE RENTAL -- 1 -- Full Market Value                      False\n",
       "COMPARABLE RENTAL -- 1 -- Gross Income per SqFt                  False\n",
       "COMPARABLE RENTAL -- 1 -- Gross SqFt                             False\n",
       "COMPARABLE RENTAL -- 1 -- Market Value per SqFt                  False\n",
       "COMPARABLE RENTAL -- 1 -- Neighborhood                           False\n",
       "COMPARABLE RENTAL -- 1 -- Total Units                            False\n",
       "COMPARABLE RENTAL -- 1 -- Year Built                             False\n",
       "COMPARABLE RENTAL -- 2 -- Address                                 True\n",
       "COMPARABLE RENTAL -- 2 -- Boro-Block-Lot                          True\n",
       "COMPARABLE RENTAL -- 2 -- Building Classification                 True\n",
       "COMPARABLE RENTAL -- 2 -- Distance from Coop in miles             True\n",
       "COMPARABLE RENTAL -- 2 -- Estimated Gross Income                  True\n",
       "COMPARABLE RENTAL -- 2 -- Full Market Value                       True\n",
       "COMPARABLE RENTAL -- 2 -- Gross Income per SqFt                   True\n",
       "COMPARABLE RENTAL -- 2 -- Gross SqFt                              True\n",
       "COMPARABLE RENTAL -- 2 -- Market Value per SqFt                   True\n",
       "COMPARABLE RENTAL -- 2 -- Neighborhood                            True\n",
       "COMPARABLE RENTAL -- 2 -- Total Units                             True\n",
       "COMPARABLE RENTAL -- 2 -- Year Built                              True\n",
       "COOPERATIVES COMPARABLE PROPERTIES -- Address                    False\n",
       "COOPERATIVES COMPARABLE PROPERTIES -- Boro-Block-Lot             False\n",
       "COOPERATIVES COMPARABLE PROPERTIES -- Building Classification    False\n",
       "COOPERATIVES COMPARABLE PROPERTIES -- Estimated Gross Income     False\n",
       "COOPERATIVES COMPARABLE PROPERTIES -- Full Market Value          False\n",
       "COOPERATIVES COMPARABLE PROPERTIES -- Gross Income per SqFt      False\n",
       "COOPERATIVES COMPARABLE PROPERTIES -- Gross SqFt                 False\n",
       "COOPERATIVES COMPARABLE PROPERTIES -- Market Value per SqFt      False\n",
       "COOPERATIVES COMPARABLE PROPERTIES -- Neighborhood               False\n",
       "COOPERATIVES COMPARABLE PROPERTIES -- Total Units                False\n",
       "COOPERATIVES COMPARABLE PROPERTIES -- Year Built                 False\n",
       "District                                                         False\n",
       "Year                                                             False\n",
       "dtype: bool"
      ]
     },
     "execution_count": 23,
     "metadata": {},
     "output_type": "execute_result"
    }
   ],
   "source": [
    "pd.isnull(mainDF).any()"
   ]
  },
  {
   "cell_type": "markdown",
   "metadata": {},
   "source": [
    "Что, если удалить все строки, содержащие хотя бы 1 NULL?"
   ]
  },
  {
   "cell_type": "code",
   "execution_count": 24,
   "metadata": {
    "collapsed": true
   },
   "outputs": [],
   "source": [
    "mainDF2 = mainDF.dropna()"
   ]
  },
  {
   "cell_type": "code",
   "execution_count": 25,
   "metadata": {
    "collapsed": false
   },
   "outputs": [
    {
     "data": {
      "text/plain": [
       "19079"
      ]
     },
     "execution_count": 25,
     "metadata": {},
     "output_type": "execute_result"
    }
   ],
   "source": [
    "len(mainDF)"
   ]
  },
  {
   "cell_type": "code",
   "execution_count": 26,
   "metadata": {
    "collapsed": false
   },
   "outputs": [
    {
     "data": {
      "text/plain": [
       "18503"
      ]
     },
     "execution_count": 26,
     "metadata": {},
     "output_type": "execute_result"
    }
   ],
   "source": [
    "len(mainDF2)"
   ]
  },
  {
   "cell_type": "markdown",
   "metadata": {},
   "source": [
    "Отлично, потеряли всего 575 значений, оставим так"
   ]
  },
  {
   "cell_type": "code",
   "execution_count": 27,
   "metadata": {
    "collapsed": true
   },
   "outputs": [],
   "source": [
    "mainDF = mainDF2"
   ]
  },
  {
   "cell_type": "markdown",
   "metadata": {},
   "source": [
    "$$[---------------------------------------------]$$"
   ]
  },
  {
   "cell_type": "markdown",
   "metadata": {},
   "source": [
    "Некоторые переименования"
   ]
  },
  {
   "cell_type": "code",
   "execution_count": 28,
   "metadata": {
    "collapsed": false
   },
   "outputs": [],
   "source": [
    "columns = mainDF.columns"
   ]
  },
  {
   "cell_type": "code",
   "execution_count": 29,
   "metadata": {
    "collapsed": false
   },
   "outputs": [],
   "source": [
    "newcolumns = {}\n",
    "for column in columns:\n",
    "    newcolumn = column.replace(\"COMPARABLE RENTAL -- 1 -- \", \"CR1_\").replace(\"COMPARABLE RENTAL -- 2 -- \",\"CR2_\")\n",
    "    newcolumn = newcolumn.replace(\"COOPERATIVES COMPARABLE PROPERTIES -- \",\"\").replace(\"-\",\"_\").replace(\" \",\"_\")\n",
    "    newcolumns[column] = newcolumn\n",
    "    "
   ]
  },
  {
   "cell_type": "code",
   "execution_count": 30,
   "metadata": {
    "collapsed": false
   },
   "outputs": [],
   "source": [
    "mainDF = mainDF.rename(columns=newcolumns)"
   ]
  },
  {
   "cell_type": "code",
   "execution_count": 31,
   "metadata": {
    "collapsed": false
   },
   "outputs": [
    {
     "data": {
      "text/plain": [
       "Index([u'CR1_Address', u'CR1_Boro_Block_Lot', u'CR1_Building_Classification',\n",
       "       u'CR1_Distance_from_Coop_in_miles', u'CR1_Estimated_Gross_Income',\n",
       "       u'CR1_Full_Market_Value', u'CR1_Gross_Income_per_SqFt',\n",
       "       u'CR1_Gross_SqFt', u'CR1_Market_Value_per_SqFt', u'CR1_Neighborhood',\n",
       "       u'CR1_Total_Units', u'CR1_Year_Built', u'CR2_Address',\n",
       "       u'CR2_Boro_Block_Lot', u'CR2_Building_Classification',\n",
       "       u'CR2_Distance_from_Coop_in_miles', u'CR2_Estimated_Gross_Income',\n",
       "       u'CR2_Full_Market_Value', u'CR2_Gross_Income_per_SqFt',\n",
       "       u'CR2_Gross_SqFt', u'CR2_Market_Value_per_SqFt', u'CR2_Neighborhood',\n",
       "       u'CR2_Total_Units', u'CR2_Year_Built', u'Address', u'Boro_Block_Lot',\n",
       "       u'Building_Classification', u'Estimated_Gross_Income',\n",
       "       u'Full_Market_Value', u'Gross_Income_per_SqFt', u'Gross_SqFt',\n",
       "       u'Market_Value_per_SqFt', u'Neighborhood', u'Total_Units',\n",
       "       u'Year_Built', u'District', u'Year'],\n",
       "      dtype='object')"
      ]
     },
     "execution_count": 31,
     "metadata": {},
     "output_type": "execute_result"
    }
   ],
   "source": [
    "mainDF.columns"
   ]
  },
  {
   "cell_type": "code",
   "execution_count": 32,
   "metadata": {
    "collapsed": false,
    "scrolled": true
   },
   "outputs": [
    {
     "data": {
      "text/html": [
       "<div>\n",
       "<table border=\"1\" class=\"dataframe\">\n",
       "  <thead>\n",
       "    <tr style=\"text-align: right;\">\n",
       "      <th></th>\n",
       "      <th>CR1_Address</th>\n",
       "      <th>CR1_Boro_Block_Lot</th>\n",
       "      <th>CR1_Building_Classification</th>\n",
       "      <th>CR1_Distance_from_Coop_in_miles</th>\n",
       "      <th>CR1_Estimated_Gross_Income</th>\n",
       "      <th>CR1_Full_Market_Value</th>\n",
       "      <th>CR1_Gross_Income_per_SqFt</th>\n",
       "      <th>CR1_Gross_SqFt</th>\n",
       "      <th>CR1_Market_Value_per_SqFt</th>\n",
       "      <th>CR1_Neighborhood</th>\n",
       "      <th>...</th>\n",
       "      <th>Estimated_Gross_Income</th>\n",
       "      <th>Full_Market_Value</th>\n",
       "      <th>Gross_Income_per_SqFt</th>\n",
       "      <th>Gross_SqFt</th>\n",
       "      <th>Market_Value_per_SqFt</th>\n",
       "      <th>Neighborhood</th>\n",
       "      <th>Total_Units</th>\n",
       "      <th>Year_Built</th>\n",
       "      <th>District</th>\n",
       "      <th>Year</th>\n",
       "    </tr>\n",
       "  </thead>\n",
       "  <tbody>\n",
       "    <tr>\n",
       "      <th>0</th>\n",
       "      <td>3900 GREYSTONE AVENUE\\nBronx, NY\\n(40.88950389...</td>\n",
       "      <td>2-05780-0940</td>\n",
       "      <td>D1-ELEVATOR</td>\n",
       "      <td>0.85</td>\n",
       "      <td>1397249</td>\n",
       "      <td>4720000</td>\n",
       "      <td>10.37</td>\n",
       "      <td>134703</td>\n",
       "      <td>35</td>\n",
       "      <td>RIVERDALE</td>\n",
       "      <td>...</td>\n",
       "      <td>1436270</td>\n",
       "      <td>5060000</td>\n",
       "      <td>11</td>\n",
       "      <td>130570</td>\n",
       "      <td>38.8</td>\n",
       "      <td>RIVERDALE</td>\n",
       "      <td>100</td>\n",
       "      <td>1961</td>\n",
       "      <td>Bronx</td>\n",
       "      <td>2008</td>\n",
       "    </tr>\n",
       "  </tbody>\n",
       "</table>\n",
       "<p>1 rows × 37 columns</p>\n",
       "</div>"
      ],
      "text/plain": [
       "                                         CR1_Address CR1_Boro_Block_Lot  \\\n",
       "0  3900 GREYSTONE AVENUE\\nBronx, NY\\n(40.88950389...       2-05780-0940   \n",
       "\n",
       "  CR1_Building_Classification  CR1_Distance_from_Coop_in_miles  \\\n",
       "0                 D1-ELEVATOR                             0.85   \n",
       "\n",
       "   CR1_Estimated_Gross_Income  CR1_Full_Market_Value  \\\n",
       "0                     1397249                4720000   \n",
       "\n",
       "   CR1_Gross_Income_per_SqFt  CR1_Gross_SqFt  CR1_Market_Value_per_SqFt  \\\n",
       "0                      10.37          134703                         35   \n",
       "\n",
       "  CR1_Neighborhood  ...   Estimated_Gross_Income  Full_Market_Value  \\\n",
       "0        RIVERDALE  ...                  1436270            5060000   \n",
       "\n",
       "  Gross_Income_per_SqFt Gross_SqFt Market_Value_per_SqFt  Neighborhood  \\\n",
       "0                    11     130570                  38.8     RIVERDALE   \n",
       "\n",
       "   Total_Units  Year_Built  District  Year  \n",
       "0          100        1961     Bronx  2008  \n",
       "\n",
       "[1 rows x 37 columns]"
      ]
     },
     "execution_count": 32,
     "metadata": {},
     "output_type": "execute_result"
    }
   ],
   "source": [
    "mainDF.head(1)"
   ]
  },
  {
   "cell_type": "code",
   "execution_count": null,
   "metadata": {
    "collapsed": true
   },
   "outputs": [],
   "source": []
  },
  {
   "cell_type": "code",
   "execution_count": null,
   "metadata": {
    "collapsed": true
   },
   "outputs": [],
   "source": []
  },
  {
   "cell_type": "code",
   "execution_count": null,
   "metadata": {
    "collapsed": true
   },
   "outputs": [],
   "source": []
  },
  {
   "cell_type": "markdown",
   "metadata": {},
   "source": [
    "### 4) Непосредственно исследование. А именно, проверка гепотез, визуализация результатов и т.д."
   ]
  },
  {
   "cell_type": "markdown",
   "metadata": {},
   "source": [
    "В этой фазе к данным применяются разнообразные методики моделирования, строятся модели и их параметры настраиваются на оптимальные значения. Обычно для решения любой задачи анализа данных существует несколько различных подходов. Некоторые подходы накладывают особые требования на представление данных. Таким образом часто бывает нужен возврат на шаг назад к фазе подготовки данных.\n",
    "- Выбрать методику моделирования\n",
    "- Сделать тесты для модели\n",
    "- Построить модель\n",
    "- Оценить модель"
   ]
  },
  {
   "cell_type": "code",
   "execution_count": null,
   "metadata": {
    "collapsed": true
   },
   "outputs": [],
   "source": []
  },
  {
   "cell_type": "code",
   "execution_count": null,
   "metadata": {
    "collapsed": true
   },
   "outputs": [],
   "source": []
  },
  {
   "cell_type": "code",
   "execution_count": null,
   "metadata": {
    "collapsed": true
   },
   "outputs": [],
   "source": []
  },
  {
   "cell_type": "markdown",
   "metadata": {},
   "source": [
    "### 5) Подведение итогов исследования."
   ]
  },
  {
   "cell_type": "markdown",
   "metadata": {},
   "source": [
    "На этом этапе проекта уже построена модель и получены количественные оценки её качества. Перед тем, как внедрять эту модель, необходимо убедиться, что мы достигли всех поставленных бизнес-целей. Основной целью этапа является поиск важных бизнес-задач, которым не было уделено должного внимания.\n",
    "- Оценить результаты\n",
    "- Сделать ревью процесса"
   ]
  },
  {
   "cell_type": "code",
   "execution_count": null,
   "metadata": {
    "collapsed": true
   },
   "outputs": [],
   "source": []
  },
  {
   "cell_type": "code",
   "execution_count": null,
   "metadata": {
    "collapsed": true
   },
   "outputs": [],
   "source": []
  },
  {
   "cell_type": "code",
   "execution_count": null,
   "metadata": {
    "collapsed": true
   },
   "outputs": [],
   "source": []
  }
 ],
 "metadata": {
  "kernelspec": {
   "display_name": "Python 2",
   "language": "python",
   "name": "python2"
  },
  "language_info": {
   "codemirror_mode": {
    "name": "ipython",
    "version": 2
   },
   "file_extension": ".py",
   "mimetype": "text/x-python",
   "name": "python",
   "nbconvert_exporter": "python",
   "pygments_lexer": "ipython2",
   "version": "2.7.11"
  }
 },
 "nbformat": 4,
 "nbformat_minor": 0
}
